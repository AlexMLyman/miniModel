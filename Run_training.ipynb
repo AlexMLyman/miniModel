{
 "cells": [
  {
   "cell_type": "code",
   "execution_count": null,
   "id": "f18a4ea0",
   "metadata": {},
   "outputs": [],
   "source": [
    "from transformers import GPT2Tokenizer\n"
   ]
  },
  {
   "cell_type": "code",
   "execution_count": null,
   "id": "4d87695e",
   "metadata": {},
   "outputs": [],
   "source": [
    "tokenizer = GPT2Tokenizer.from_pretrained(\"Qilex/tinyStories-10k-tokenizer\", cache_dir=\"custom-tokenizer/\")\n"
   ]
  },
  {
   "cell_type": "code",
   "execution_count": null,
   "id": "94ae772e",
   "metadata": {},
   "outputs": [],
   "source": [
    "import pickle"
   ]
  },
  {
   "cell_type": "code",
   "execution_count": null,
   "id": "e052a164",
   "metadata": {},
   "outputs": [],
   "source": [
    "with open(\"data/dataset.pkl\", \"rb\") as f: \n",
    "    arr=pickle.load(f)"
   ]
  },
  {
   "cell_type": "code",
   "execution_count": null,
   "id": "b1f921b0",
   "metadata": {},
   "outputs": [],
   "source": [
    "len(arr)"
   ]
  },
  {
   "cell_type": "code",
   "execution_count": null,
   "id": "17d159b4",
   "metadata": {},
   "outputs": [],
   "source": [
    "import torch\n",
    "from torch.utils.data import Dataset\n",
    "from torch.utils.data import DataLoader"
   ]
  },
  {
   "cell_type": "code",
   "execution_count": null,
   "id": "5a78136f",
   "metadata": {},
   "outputs": [],
   "source": [
    "from mingpt.utils import set_seed, setup_logging, CfgNode as CN"
   ]
  },
  {
   "cell_type": "code",
   "execution_count": null,
   "id": "2b052884",
   "metadata": {},
   "outputs": [],
   "source": [
    "class BatchEmitterDataset(Dataset):\n",
    "    \"\"\"\n",
    "    Emits batches of tokens (because we're passing it tokens)\n",
    "    \"\"\"\n",
    "\n",
    "    @staticmethod\n",
    "    def get_default_config():\n",
    "        C = CN()\n",
    "        C.block_size = 512\n",
    "        return C\n",
    "\n",
    "    def __init__(self, config, data):\n",
    "        self.config = config\n",
    "        chars = sorted(list(set(data)))\n",
    "        data_size, vocab_size = len(data), len(chars)\n",
    "        print('data has %d tokens, %d unique.' % (data_size, vocab_size))\n",
    "        self.vocab_size = vocab_size\n",
    "        self.data = data\n",
    "\n",
    "    def get_vocab_size(self):\n",
    "        return self.vocab_size\n",
    "\n",
    "    def get_block_size(self):\n",
    "        return self.config.block_size\n",
    "\n",
    "    def __len__(self):\n",
    "        return len(self.data) - self.config.block_size\n",
    "\n",
    "    def __getitem__(self, idx):\n",
    "        # grab a chunk of (block_size + 1) characters from the data\n",
    "        chunk = self.data[idx:idx + self.config.block_size + 1]\n",
    "        # return as tensors\n",
    "        x = torch.tensor(chunk[:-1], dtype=torch.long)\n",
    "        y = torch.tensor(chunk[1:], dtype=torch.long)\n",
    "        return x, y"
   ]
  },
  {
   "cell_type": "code",
   "execution_count": null,
   "id": "f23ead2e",
   "metadata": {
    "scrolled": true
   },
   "outputs": [],
   "source": [
    "dataset = BatchEmitterDataset(BatchEmitterDataset.get_default_config(),arr)"
   ]
  },
  {
   "cell_type": "code",
   "execution_count": null,
   "id": "1931f1bc",
   "metadata": {},
   "outputs": [],
   "source": [
    "from minGPT.mingpt.utils import set_seed\n",
    "set_seed(0)"
   ]
  },
  {
   "cell_type": "code",
   "execution_count": null,
   "id": "20b786b4",
   "metadata": {},
   "outputs": [],
   "source": [
    "# create a GPT instance\n",
    "from minGPT.mingpt.model import GPT\n",
    "model_config = GPT.get_default_config()\n",
    "model_config.model_type = 'gpt-mini'\n",
    "model_config.vocab_size = tokenizer.vocab_size\n",
    "model_config.block_size = 512\n",
    "model = GPT(model_config)\n",
    "\n"
   ]
  },
  {
   "cell_type": "code",
   "execution_count": null,
   "id": "bfb94cb0",
   "metadata": {},
   "outputs": [],
   "source": [
    "# create a Trainer object\n",
    "from mingpt.trainer import Trainer\n",
    "\n",
    "train_config = Trainer.get_default_config()\n",
    "train_config.learning_rate = 5e-4 # the model we're using is so small that we can go a bit faster\n",
    "train_config.max_iters = len(arr)-512\n",
    "train_config.num_workers = 0\n",
    "#train_config.batch_size = 2\n",
    "trainer = Trainer(train_config, model, dataset)"
   ]
  },
  {
   "cell_type": "code",
   "execution_count": null,
   "id": "f53288d6",
   "metadata": {},
   "outputs": [],
   "source": [
    "def batch_end_callback(trainer):\n",
    "    if trainer.iter_num % 1000 == 0 and trainer.iter_num !=0:      \n",
    "        print(f\"iter_dt {trainer.iter_dt * 1000:.2f}ms; iter {trainer.iter_num}: train loss {trainer.loss.item():.5f}\")\n",
    "    if trainer.iter_num % 10000 == 0 and trainer.iter_num !=0:\n",
    "        loss = trainer.loss.item()\n",
    "        iter_num = trainer.iter_num\n",
    "        filepath = \"tiny46\"+str(iter_num)+\".pt\"\n",
    "        torch.save({\n",
    "                    'epoch': iter_num,\n",
    "                    'model_state_dict': model.state_dict(),\n",
    "                    'optimizer_state_dict': trainer.optimizer.state_dict(),\n",
    "                    'loss': loss,\n",
    "                    'train_config':train_config,\n",
    "                    'model_config':model_config\n",
    "\n",
    "        }, filepath)\n",
    "        print(\"Saving model\")\n",
    "        \n",
    "trainer.set_callback('on_batch_end', batch_end_callback)\n",
    "\n",
    "trainer.run()"
   ]
  },
  {
   "cell_type": "code",
   "execution_count": null,
   "id": "d21b3b53",
   "metadata": {},
   "outputs": [],
   "source": [
    "def generate(prompt='', num_samples=1, steps=200, do_sample=True):\n",
    "    #tokenizer = tokenizer\n",
    "    if prompt == '': \n",
    "        prompt = tokenizer.eos_token\n",
    "    encoded_input = tokenizer(prompt, return_tensors='pt').to(device)\n",
    "    x = encoded_input['input_ids']\n",
    "    \n",
    "    # we'll process all desired num_samples in a batch, so expand out the batch dim\n",
    "    x = x.expand(num_samples, -1)\n",
    "\n",
    "    # forward the model `steps` times to get samples, in a batch\n",
    "    y = model.generate(x, max_new_tokens=steps, do_sample=do_sample, top_k=None, temperature = 1)\n",
    "    \n",
    "    for i in range(num_samples):\n",
    "#        out = y[i].cpu().squeeze()\n",
    "\n",
    "        out = tokenizer.decode(y[i].cpu().squeeze())\n",
    "        print('-'*80)\n",
    "        print(out)"
   ]
  },
  {
   "cell_type": "code",
   "execution_count": null,
   "id": "d7c97b42",
   "metadata": {},
   "outputs": [],
   "source": [
    "device = 'cuda'\n",
    "generate(\"There were two mice\")"
   ]
  },
  {
   "cell_type": "code",
   "execution_count": null,
   "id": "25e509ba",
   "metadata": {},
   "outputs": [],
   "source": [
    "#https://pytorch.org/tutorials/beginner/saving_loading_models.html#saving-loading-a-general-checkpoint-for-inference-and-or-resuming-training\n",
    "\n",
    "\n",
    "checkpoint = torch.load('tiny46900000.pt')\n",
    "mconfig = checkpoint['model_config']\n",
    "tconfig = checkpoint['train_config']\n",
    "mconfig.model_type = None\n",
    "new_model = GPT(mconfig)\n",
    "new_model.load_state_dict(checkpoint['model_state_dict'])\n",
    "#trainer.optimizer.load_state_dict(checkpoint['optimizer_state_dict'])\n",
    "trainer.iter_num = checkpoint['epoch']\n",
    "\n",
    "\n",
    "\n"
   ]
  },
  {
   "cell_type": "code",
   "execution_count": null,
   "id": "8c947c6c",
   "metadata": {},
   "outputs": [],
   "source": [
    "device = 'cpu'"
   ]
  },
  {
   "cell_type": "code",
   "execution_count": null,
   "id": "e3ef0d8b",
   "metadata": {},
   "outputs": [],
   "source": [
    "generate(\"A little boy named Sam\")"
   ]
  },
  {
   "cell_type": "code",
   "execution_count": null,
   "id": "bde4687c",
   "metadata": {},
   "outputs": [],
   "source": [
    "beam(\"A little boy named Sam\")"
   ]
  },
  {
   "cell_type": "code",
   "execution_count": null,
   "id": "ee021f39",
   "metadata": {},
   "outputs": [],
   "source": [
    "def generate( prompt='', num_samples=1, steps=200, do_sample=True):\n",
    "    #tokenizer = tokenizer\n",
    "    if prompt == '': \n",
    "        prompt = tokenizer.eos_token\n",
    "    encoded_input = tokenizer(prompt, return_tensors='pt').to(device)\n",
    "    x = encoded_input['input_ids']\n",
    "    \n",
    "    # we'll process all desired num_samples in a batch, so expand out the batch dim\n",
    "    x = x.expand(num_samples, -1)\n",
    "\n",
    "    # forward the model `steps` times to get samples, in a batch\n",
    "    y = new_model.generate(x, max_new_tokens=steps, do_sample=do_sample, top_k=None, temperature = 1)\n",
    "    #    y = new_model.beam(x, max_new_tokens=steps, beam_size = 5)\n",
    "\n",
    "    \n",
    "    for i in range(num_samples):\n",
    "        out = tokenizer.decode(y[i].cpu().squeeze())\n",
    "        print('-'*80)\n",
    "        print(out)"
   ]
  },
  {
   "cell_type": "code",
   "execution_count": null,
   "id": "10ba1db2",
   "metadata": {},
   "outputs": [],
   "source": [
    "def beam( prompt='', num_samples=1, steps=200, do_sample=True):\n",
    "    #tokenizer = tokenizer\n",
    "    if prompt == '': \n",
    "        prompt = tokenizer.eos_token\n",
    "    encoded_input = tokenizer(prompt, return_tensors='pt').to(device)\n",
    "    x = encoded_input['input_ids']\n",
    "    \n",
    "    # we'll process all desired num_samples in a batch, so expand out the batch dim\n",
    "    x = x.expand(num_samples, -1)\n",
    "\n",
    "    # forward the model `steps` times to get samples, in a batch\n",
    "    #y = new_model.generate(x, max_new_tokens=steps, do_sample=do_sample, top_k=None, temperature = 1)\n",
    "    y = new_model.beam(x, max_new_tokens=steps, beam_size = 5)\n",
    "\n",
    "    \n",
    "    for i in range(num_samples):\n",
    "        out = tokenizer.decode(y[i].cpu().squeeze())\n",
    "        print('-'*80)\n",
    "        print(out)"
   ]
  },
  {
   "cell_type": "code",
   "execution_count": null,
   "id": "0ba71529",
   "metadata": {},
   "outputs": [],
   "source": []
  }
 ],
 "metadata": {
  "kernelspec": {
   "display_name": "Python 3 (ipykernel)",
   "language": "python",
   "name": "python3"
  },
  "language_info": {
   "codemirror_mode": {
    "name": "ipython",
    "version": 3
   },
   "file_extension": ".py",
   "mimetype": "text/x-python",
   "name": "python",
   "nbconvert_exporter": "python",
   "pygments_lexer": "ipython3",
   "version": "3.10.12"
  }
 },
 "nbformat": 4,
 "nbformat_minor": 5
}
